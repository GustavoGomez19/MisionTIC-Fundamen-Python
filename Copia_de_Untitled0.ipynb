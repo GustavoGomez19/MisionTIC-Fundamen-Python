{
  "nbformat": 4,
  "nbformat_minor": 0,
  "metadata": {
    "colab": {
      "name": "Copia de Untitled0.ipynb",
      "provenance": [],
      "collapsed_sections": [],
      "authorship_tag": "ABX9TyNn+dNy68c1q8xJvREGHKo/"
    },
    "kernelspec": {
      "name": "python3",
      "display_name": "Python 3"
    },
    "language_info": {
      "name": "python"
    }
  },
  "cells": [
    {
      "cell_type": "code",
      "source": [
        "#Desarrollo reto 1\n",
        "#Definicón de función\n",
        "def CDT(u,c,t):\n",
        "  valorIntereses = (c*0.03*t)/12\n",
        "  valorPerder = c * 0.02\n",
        "\n",
        "  if t > 2:\n",
        "    valorTotal = c + valorIntereses\n",
        "    \n",
        "  else:\n",
        "    valorTotal = c-valorPerder\n",
        "\n",
        "  c = str(c)\n",
        "  t = str(t)\n",
        "  valorTotal = str(valorTotal)\n",
        "  respuesta = \"Para el usuario \"+ u + \" La cantidad de dinero a recibir, según el monto inicial \" + c + \" para un tiempo de \" + t + \" meses es: \" + valorTotal\n",
        "  return respuesta\n",
        "\n",
        "#Código principal\n",
        "usuario = input(\"Ingrese su usuario: \")\n",
        "capital = int(input(\"Ingrese el monto del capital: \"))\n",
        "tiempo = int(input(\"Ingrese el tiempo en meses que desea guardar el capital: \"))\n",
        "respuesta = CDT(usuario,capital,tiempo)\n",
        "print(respuesta)"
      ],
      "metadata": {
        "colab": {
          "base_uri": "https://localhost:8080/"
        },
        "id": "GFrnuQyosSWq",
        "outputId": "5ce3aa89-2000-4cdc-e675-a2fbe494d174"
      },
      "execution_count": 7,
      "outputs": [
        {
          "output_type": "stream",
          "name": "stdout",
          "text": [
            "Ingrese su usuario: AB1012\n",
            "Ingrese el monto del capital: 650000\n",
            "Ingrese el tiempo en meses que desea guardar el capital: 2\n",
            "Para el usuario AB1012 La cantidad de dinero a recibir, según el monto inicial 650000 para un tiempo de 2 meses es: 637000.0\n"
          ]
        }
      ]
    }
  ]
}