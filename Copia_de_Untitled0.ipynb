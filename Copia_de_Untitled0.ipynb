{
  "nbformat": 4,
  "nbformat_minor": 0,
  "metadata": {
    "colab": {
      "name": "Copia de Untitled0.ipynb",
      "provenance": [],
      "collapsed_sections": [],
      "authorship_tag": "ABX9TyPdrIUhRMcrIO4vGK1kSU+R"
    },
    "kernelspec": {
      "name": "python3",
      "display_name": "Python 3"
    },
    "language_info": {
      "name": "python"
    }
  },
  "cells": [
    {
      "cell_type": "code",
      "source": [
        "#ejercicio 1\n",
        "lb = float(input(\"Ingrese su peso en libras: \"))\n",
        "kg = lb*0.453592\n",
        "print(\"El peso ingresado en libras:\",lb,\", \" \"equivale a:\",kg, \"kilogramos\")"
      ],
      "metadata": {
        "colab": {
          "base_uri": "https://localhost:8080/"
        },
        "id": "jiW8L4z35LVc",
        "outputId": "d5e17807-9d16-4035-d58f-926862d4fd12"
      },
      "execution_count": 9,
      "outputs": [
        {
          "output_type": "stream",
          "name": "stdout",
          "text": [
            "Ingrese su peso en libras: 170\n",
            "El peso ingresado en libras: 170.0 , equivale a: 77.11064 kilogramos\n"
          ]
        }
      ]
    },
    {
      "cell_type": "code",
      "source": [
        "#ejercicio 3\n",
        "milla = float(input(\"Ingrese el número de millas para convertirlas en kilometros: \"))\n",
        "km = float(input(\"Ingrese el número de kilometros para convertirlos a millas: \"))\n",
        "n_millas = km*0.621371\n",
        "n_km = milla*1.60934\n",
        "print(\"La cantidad de millas ingresadas equivalen a:\",n_km,\"kilometros y la cantidad de kilometros ingresados equivale a:\",n_millas, \"millas\")"
      ],
      "metadata": {
        "colab": {
          "base_uri": "https://localhost:8080/"
        },
        "id": "q7o9TAlJ764t",
        "outputId": "339fe09c-3a69-417d-df6e-e3a050909d80"
      },
      "execution_count": 11,
      "outputs": [
        {
          "output_type": "stream",
          "name": "stdout",
          "text": [
            "Ingrese el número de millas para convertirlas en kilometros: 5\n",
            "Ingrese el número de kilometros para convertirlos a millas: 5\n",
            "La cantidad de millas ingresadas equivalen a: 8.0467 kilometros, y la cantidad de kilometros ingresados equivale a: 3.106855 millas\n"
          ]
        }
      ]
    },
    {
      "cell_type": "code",
      "source": [
        "#ejercicio 2\n",
        "lado_a = float(input(\"Ingrese la longitud del lado A: \"))\n",
        "lado_b = float(input(\"Ingrese la longitud del lado B: \"))\n",
        "h = (lado_a**2+lado_b**2)**(1/2)\n",
        "print(\"La hipotenusa del triangulo rectangulo equivale a:\",h)"
      ],
      "metadata": {
        "colab": {
          "base_uri": "https://localhost:8080/"
        },
        "id": "4xx1rgwM9hKj",
        "outputId": "6aa9fd07-29b9-4556-c39c-23c50b1e76c6"
      },
      "execution_count": 13,
      "outputs": [
        {
          "output_type": "stream",
          "name": "stdout",
          "text": [
            "Ingrese la longitud del lado A: 5\n",
            "Ingrese la longitud del lado B: 4\n",
            "La hipotenusa del triangulo rectangulo equivale a: 20.5\n"
          ]
        }
      ]
    },
    {
      "cell_type": "code",
      "source": [
        "#ejercicio 4 - operaciones aritmeticas\n",
        "#Definición de funciones\n",
        "def saludar():\n",
        "  print(\"Vamos a realizar las 4 operaciones aritmeticas.\")\n",
        "\n",
        "def despedir():\n",
        "  print(\"See you later pirobeier.\")\n",
        "\n",
        "def sumar(num1,num2):\n",
        "  return num1+num2\n",
        "  \n",
        "\n",
        "def restar(num1,num2):\n",
        "  return num1-num2\n",
        "\n",
        "def multiplicar(num1,num2):\n",
        "  return num1*num2\n",
        "\n",
        "def dividir(num1,num2):\n",
        "  return num1/num2\n",
        "  \n",
        "\n",
        "#conntrucción de programa a ejecutar\n",
        "saludar()\n",
        "num_1 = float(input(\"Ingrese el primer número: \"))\n",
        "num_2 = float(input(\"Ingrese el segundo número: \"))\n",
        "print(\"El resultado de la suma es:\",sumar(num_1,num_2),\", el resultado de la resta es: \",restar(num_1,num_2),\", el resultado de la multiplicación es:\",multiplicar(num_1,num_2),\"y el resultado de la división es:\",dividir(num_1,num_2))\n",
        "despedir()\n"
      ],
      "metadata": {
        "colab": {
          "base_uri": "https://localhost:8080/"
        },
        "id": "QoFUFbS5J2LX",
        "outputId": "eb793384-cabe-4728-fc26-0c822969fe3f"
      },
      "execution_count": 23,
      "outputs": [
        {
          "output_type": "stream",
          "name": "stdout",
          "text": [
            "Vamos a realizar las 4 operaciones aritmeticas.\n",
            "Ingrese el primer número: 8\n",
            "Ingrese el segundo número: 4\n",
            "El resultado de la suma es: 12.0 , el resultado de la resta es:  4.0 , el resultado de la multiplicación es: 32.0 y el resultado de la división es: 2.0\n",
            "See you later pirobeier.\n"
          ]
        }
      ]
    }
  ]
}